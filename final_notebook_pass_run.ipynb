{
 "cells": [
  {
   "cell_type": "code",
   "execution_count": 1,
   "id": "233d8abb",
   "metadata": {},
   "outputs": [],
   "source": [
    "# Only needed imports of Final Report\n",
    "import wrangle as w\n",
    "import model as m"
   ]
  },
  {
   "cell_type": "markdown",
   "id": "0279e9d2",
   "metadata": {},
   "source": [
    "---"
   ]
  },
  {
   "cell_type": "markdown",
   "id": "09523743",
   "metadata": {},
   "source": [
    "# <u>Predicting Pass or Run for Offenses in the NFL<u>\n",
    "#### Reported by Jerry Nolf - April 27, 2022"
   ]
  },
  {
   "cell_type": "markdown",
   "id": "23d786b7",
   "metadata": {},
   "source": [
    "---"
   ]
  },
  {
   "cell_type": "markdown",
   "id": "62abd205",
   "metadata": {},
   "source": [
    "### Project Description:\n",
    "The NFL has been one of the largest organizations to introduce analytics into its multi-faceted operation and has made available very useful information that can help in better understanding the ever-changing game of American football.\n",
    "\n",
    "This project is a scenario that a Defensive Coordinator has asked for a report on how offensive mindsets have changed over the last 5 seasons and whether or not available data can be used in order to better predict offensive play outcomes.\n",
    "\n",
    "\n",
    "#### Project Goals:\n",
    "In order to provide an idea of the impact NFL data has, I will be taking play-by-play data from the past 5 seasons (2017-2021) and using it in order to predict whether an offensive play will be will result in a pass or a run."
   ]
  },
  {
   "cell_type": "markdown",
   "id": "7362cb74",
   "metadata": {},
   "source": [
    "---"
   ]
  },
  {
   "cell_type": "markdown",
   "id": "470bf3a8",
   "metadata": {},
   "source": [
    "### Acquiring the data:\n",
    "\n",
    "Our data will be acquired through the 'NFL Savant' website. This site has multiple databased already made into csv files and ready to download. The csv files we will be using are as follows:\n",
    "\n",
    "    - play_by_play_2017\n",
    "    - play_by_play_2018\n",
    "    - play_by_play_2019\n",
    "    - play_by_play_2020\n",
    "    - play_by_play_2021\n",
    "    \n",
    "After downloading the appropriate files, they will be stored in the same directory in order to be acquired and merged together so that all information for the past 5 season is in dataframe. To streamline this process for future, the following function was created and can be used out of the wrangle.py file..."
   ]
  },
  {
   "cell_type": "code",
   "execution_count": 2,
   "id": "2320910a",
   "metadata": {},
   "outputs": [
    {
     "name": "stdout",
     "output_type": "stream",
     "text": [
      "plays-2019.csv acquired\n",
      "plays-2018.csv acquired\n",
      "plays-2020.csv acquired\n",
      "plays-2021.csv acquired\n",
      "plays-2017.csv acquired\n"
     ]
    },
    {
     "data": {
      "text/plain": [
       "(221479, 46)"
      ]
     },
     "execution_count": 2,
     "metadata": {},
     "output_type": "execute_result"
    }
   ],
   "source": [
    "# Acquire with function from wrangle.py\n",
    "df = w.acquire_play_by_play()\n",
    "df.shape"
   ]
  },
  {
   "cell_type": "markdown",
   "id": "4469505d",
   "metadata": {},
   "source": [
    "As seen above, all five seasons have been been acquring and concatenated together form a single dataframe that contains 221,479 plays(rows) with information for each available in 46 columns."
   ]
  },
  {
   "cell_type": "markdown",
   "id": "018b6934",
   "metadata": {},
   "source": [
    "---"
   ]
  },
  {
   "cell_type": "markdown",
   "id": "c32d2aa0",
   "metadata": {},
   "source": [
    "### Preparing the data:\n",
    "Once acquired, we will be cleaning our data in order to more efficiently and effectively meet our needs. In order to ensure all relevant data is available, we will do the following:\n",
    "\n",
    "    - Drop columns that are deemed unnecessary to predict pass such as penalty information, whether the tema won, game id tags, etc.\n",
    "    - Drop any rows that include kicking and defensive plays such as field goals, extra point, sacks, interceptions, etc.\n",
    "    - Use feature engineering in order to offer more insight on how much time is left in the game based on overall seconds left on the game clock.\n",
    "    \n",
    "Once again, the following function will be used out of the wrangle.py file in order to make this process more streamline."
   ]
  },
  {
   "cell_type": "code",
   "execution_count": 3,
   "id": "4cb6465d",
   "metadata": {},
   "outputs": [
    {
     "data": {
      "text/plain": [
       "(151408, 23)"
      ]
     },
     "execution_count": 3,
     "metadata": {},
     "output_type": "execute_result"
    }
   ],
   "source": [
    "# Prepare data with function from wrangle.py\n",
    "df = w.prep_play_by_play(df)\n",
    "df.shape"
   ]
  },
  {
   "cell_type": "markdown",
   "id": "5303a94d",
   "metadata": {},
   "source": [
    "As we can see, all relevant data has resulted in a total of 151,408 total pass/run plays with 23 columns of features that can help us predict whether the offensive play will result in a pass or a run. An example of what this data frame has to offer is below."
   ]
  },
  {
   "cell_type": "code",
   "execution_count": 4,
   "id": "b2070f8c",
   "metadata": {},
   "outputs": [
    {
     "data": {
      "text/html": [
       "<div>\n",
       "<style scoped>\n",
       "    .dataframe tbody tr th:only-of-type {\n",
       "        vertical-align: middle;\n",
       "    }\n",
       "\n",
       "    .dataframe tbody tr th {\n",
       "        vertical-align: top;\n",
       "    }\n",
       "\n",
       "    .dataframe thead th {\n",
       "        text-align: right;\n",
       "    }\n",
       "</style>\n",
       "<table border=\"1\" class=\"dataframe\">\n",
       "  <thead>\n",
       "    <tr style=\"text-align: right;\">\n",
       "      <th></th>\n",
       "      <th>GameDate</th>\n",
       "      <th>Quarter</th>\n",
       "      <th>Minute</th>\n",
       "      <th>Second</th>\n",
       "      <th>OffenseTeam</th>\n",
       "      <th>DefenseTeam</th>\n",
       "      <th>Down</th>\n",
       "      <th>ToGo</th>\n",
       "      <th>YardLine</th>\n",
       "      <th>SeriesFirstDown</th>\n",
       "      <th>SeasonYear</th>\n",
       "      <th>Yards</th>\n",
       "      <th>Formation</th>\n",
       "      <th>PlayType</th>\n",
       "      <th>IsPass</th>\n",
       "      <th>IsInterception</th>\n",
       "      <th>IsFumble</th>\n",
       "      <th>YardLineFixed</th>\n",
       "      <th>YardLineDirection</th>\n",
       "      <th>YTG_bins</th>\n",
       "      <th>QuarterSeconds</th>\n",
       "      <th>ClockSeconds</th>\n",
       "      <th>SecondsLeft</th>\n",
       "    </tr>\n",
       "  </thead>\n",
       "  <tbody>\n",
       "    <tr>\n",
       "      <th>0</th>\n",
       "      <td>2019-12-22</td>\n",
       "      <td>4</td>\n",
       "      <td>1</td>\n",
       "      <td>40</td>\n",
       "      <td>LAC</td>\n",
       "      <td>LV</td>\n",
       "      <td>3</td>\n",
       "      <td>9</td>\n",
       "      <td>91</td>\n",
       "      <td>0</td>\n",
       "      <td>2019</td>\n",
       "      <td>0</td>\n",
       "      <td>SHOTGUN</td>\n",
       "      <td>PASS</td>\n",
       "      <td>1</td>\n",
       "      <td>0</td>\n",
       "      <td>0</td>\n",
       "      <td>9</td>\n",
       "      <td>OPP</td>\n",
       "      <td>medium</td>\n",
       "      <td>3600</td>\n",
       "      <td>100</td>\n",
       "      <td>100</td>\n",
       "    </tr>\n",
       "    <tr>\n",
       "      <th>1</th>\n",
       "      <td>2019-12-22</td>\n",
       "      <td>4</td>\n",
       "      <td>1</td>\n",
       "      <td>47</td>\n",
       "      <td>LAC</td>\n",
       "      <td>LV</td>\n",
       "      <td>2</td>\n",
       "      <td>9</td>\n",
       "      <td>91</td>\n",
       "      <td>0</td>\n",
       "      <td>2019</td>\n",
       "      <td>0</td>\n",
       "      <td>SHOTGUN</td>\n",
       "      <td>PASS</td>\n",
       "      <td>1</td>\n",
       "      <td>0</td>\n",
       "      <td>0</td>\n",
       "      <td>9</td>\n",
       "      <td>OPP</td>\n",
       "      <td>medium</td>\n",
       "      <td>3600</td>\n",
       "      <td>107</td>\n",
       "      <td>107</td>\n",
       "    </tr>\n",
       "  </tbody>\n",
       "</table>\n",
       "</div>"
      ],
      "text/plain": [
       "     GameDate  Quarter  Minute  Second OffenseTeam DefenseTeam  Down  ToGo  \\\n",
       "0  2019-12-22        4       1      40         LAC          LV     3     9   \n",
       "1  2019-12-22        4       1      47         LAC          LV     2     9   \n",
       "\n",
       "   YardLine  SeriesFirstDown  SeasonYear  Yards Formation PlayType  IsPass  \\\n",
       "0        91                0        2019      0   SHOTGUN     PASS       1   \n",
       "1        91                0        2019      0   SHOTGUN     PASS       1   \n",
       "\n",
       "   IsInterception  IsFumble  YardLineFixed YardLineDirection YTG_bins  \\\n",
       "0               0         0              9               OPP   medium   \n",
       "1               0         0              9               OPP   medium   \n",
       "\n",
       "   QuarterSeconds  ClockSeconds  SecondsLeft  \n",
       "0            3600           100          100  \n",
       "1            3600           107          107  "
      ]
     },
     "execution_count": 4,
     "metadata": {},
     "output_type": "execute_result"
    }
   ],
   "source": [
    "# Take a look at cleaned data frame\n",
    "df.head(2)"
   ]
  },
  {
   "cell_type": "markdown",
   "id": "a3a9add3",
   "metadata": {},
   "source": [
    "---"
   ]
  },
  {
   "cell_type": "markdown",
   "id": "d5108b43",
   "metadata": {},
   "source": [
    "### Splitting the data:\n",
    "Considering our data is now acquired and prepared, we can now split it into a train set for exploration, a validate set for modeling, and a test set to measure our success on 'untouched' data.\n",
    "\n",
    "The test set will first be pulled out resulting in it accumulating 20% of all data. The remaining 80% will be spit into 70% test and 30% validate data resulting in them being 56% and 24% of all data, respectively. This will all be done through the 'split_data' function available in the wrangle.py file as well."
   ]
  },
  {
   "cell_type": "code",
   "execution_count": 5,
   "id": "8bdc2757",
   "metadata": {},
   "outputs": [
    {
     "name": "stdout",
     "output_type": "stream",
     "text": [
      "Data frame sizes are as follow: \n",
      "Train = 84788 \n",
      "Validate = 36338 \n",
      "Test = 30282 \n",
      "Total dataframe = 151408\n"
     ]
    }
   ],
   "source": [
    "# Split data using function from wrangle.py\n",
    "train, validate, test = w.split_data(df)"
   ]
  },
  {
   "cell_type": "markdown",
   "id": "03a493d0",
   "metadata": {},
   "source": [
    "As seen above, splitting does not affect our dataframe size. We still have all 151,408 plays(rows) that we had after preparing our data."
   ]
  },
  {
   "cell_type": "markdown",
   "id": "252e90a1",
   "metadata": {},
   "source": [
    "---"
   ]
  },
  {
   "cell_type": "markdown",
   "id": "1f87fb37",
   "metadata": {},
   "source": [
    "### Exploring the data:\n",
    "When starting the exploration process, I first took a look at the correlation between different features(columns) and our target variable('IsPass') using the entire data frame and a function out of our model.py file:"
   ]
  },
  {
   "cell_type": "code",
   "execution_count": 6,
   "id": "137dce70",
   "metadata": {},
   "outputs": [
    {
     "data": {
      "image/png": "[encoded data removed]",
      "text/plain": [
       "<Figure size 864x720 with 1 Axes>"
      ]
     },
     "metadata": {},
     "output_type": "display_data"
    }
   ],
   "source": [
    "# Present visual for correlation of features versus IsPass\n",
    "m.IsPass_correlation(df)"
   ]
  },
  {
   "cell_type": "markdown",
   "id": "31eb66ad",
   "metadata": {},
   "source": [
    "As we continue our exploration, we can use the above correlation chart to help guide ourselves and help find what will be impactful when predicting pass or run. \n",
    "\n",
    "Through the exploration process, additional questions were also brought up. These included the following:\n",
    "\n",
    "- Has passing increased over the years?\n",
    "- Is there a relationship between what down it is and passing the ball?\n",
    "- Is there a linear relationship between current quarter and passing the ball?\n",
    "- Has offensive produced yards increased over time?\n",
    "\n",
    "These questions will be walked through using visuals and statistical test using functions out of the model.py file. Please feel free to take a look for a deeper dive."
   ]
  },
  {
   "cell_type": "markdown",
   "id": "1aae71a1",
   "metadata": {},
   "source": [
    "---"
   ]
  },
  {
   "cell_type": "markdown",
   "id": "4ea5ec5c",
   "metadata": {},
   "source": [
    "### Question #1:\n",
    "##### Have  number of passing and/or running plays increased over the last 5 seasons?"
   ]
  },
  {
   "cell_type": "code",
   "execution_count": 7,
   "id": "15126662",
   "metadata": {},
   "outputs": [
    {
     "data": {
      "image/png": "[encoded data removed]",
      "text/plain": [
       "<Figure size 864x720 with 1 Axes>"
      ]
     },
     "metadata": {},
     "output_type": "display_data"
    }
   ],
   "source": [
    "# Use function from model.py to pull visual for question 1\n",
    "m.q1_viz(df)"
   ]
  },
  {
   "cell_type": "markdown",
   "id": "6e08ecdd",
   "metadata": {},
   "source": [
    "### Answer to Question #1:\n",
    "As the visual shows, the overall total of plays both passing and running have fluctuated a bit but remain on the relatively constant course of ~18,000 yards in passing and ~12,000 in rushing over the past 5 seasons."
   ]
  },
  {
   "cell_type": "markdown",
   "id": "c21a517d",
   "metadata": {},
   "source": [
    "---"
   ]
  },
  {
   "cell_type": "markdown",
   "id": "6995925c",
   "metadata": {},
   "source": [
    "### Question #2:\n",
    "#### Has offensive yardage increased over the last 5 seasons?"
   ]
  },
  {
   "cell_type": "code",
   "execution_count": 8,
   "id": "be5aa4b4",
   "metadata": {},
   "outputs": [
    {
     "data": {
      "text/html": [
       "<div>\n",
       "<style scoped>\n",
       "    .dataframe tbody tr th:only-of-type {\n",
       "        vertical-align: middle;\n",
       "    }\n",
       "\n",
       "    .dataframe tbody tr th {\n",
       "        vertical-align: top;\n",
       "    }\n",
       "\n",
       "    .dataframe thead th {\n",
       "        text-align: right;\n",
       "    }\n",
       "</style>\n",
       "<table border=\"1\" class=\"dataframe\">\n",
       "  <thead>\n",
       "    <tr style=\"text-align: right;\">\n",
       "      <th></th>\n",
       "      <th>Yards</th>\n",
       "    </tr>\n",
       "    <tr>\n",
       "      <th>SeasonYear</th>\n",
       "      <th></th>\n",
       "    </tr>\n",
       "  </thead>\n",
       "  <tbody>\n",
       "    <tr>\n",
       "      <th>2020</th>\n",
       "      <td>195736</td>\n",
       "    </tr>\n",
       "    <tr>\n",
       "      <th>2018</th>\n",
       "      <td>194828</td>\n",
       "    </tr>\n",
       "    <tr>\n",
       "      <th>2017</th>\n",
       "      <td>186368</td>\n",
       "    </tr>\n",
       "    <tr>\n",
       "      <th>2019</th>\n",
       "      <td>180045</td>\n",
       "    </tr>\n",
       "    <tr>\n",
       "      <th>2021</th>\n",
       "      <td>178064</td>\n",
       "    </tr>\n",
       "  </tbody>\n",
       "</table>\n",
       "</div>"
      ],
      "text/plain": [
       "             Yards\n",
       "SeasonYear        \n",
       "2020        195736\n",
       "2018        194828\n",
       "2017        186368\n",
       "2019        180045\n",
       "2021        178064"
      ]
     },
     "execution_count": 8,
     "metadata": {},
     "output_type": "execute_result"
    }
   ],
   "source": [
    "# Use function from model.py to pull visual for question 2\n",
    "m.q2_viz(df)"
   ]
  },
  {
   "cell_type": "markdown",
   "id": "0a0e1486",
   "metadata": {},
   "source": [
    "### Answer to Question #2:\n",
    "Using the above data frame, we can conclude by the rankings that offenses have not consistently increased total yardage over the last 5 seasons."
   ]
  },
  {
   "cell_type": "markdown",
   "id": "cc1e8b52",
   "metadata": {},
   "source": [
    "---"
   ]
  },
  {
   "cell_type": "markdown",
   "id": "5e3e7480",
   "metadata": {},
   "source": [
    "##### Now that we're more acquainted with our data, let's dive a into some relational questions that could possibly help us in our prediction model..."
   ]
  },
  {
   "cell_type": "markdown",
   "id": "2fe5b2b1",
   "metadata": {},
   "source": [
    "---"
   ]
  },
  {
   "cell_type": "markdown",
   "id": "91b48679",
   "metadata": {},
   "source": [
    "### Question #3:\n",
    "#### Is there a relationship between what down it is and whether is results in a pass?"
   ]
  },
  {
   "cell_type": "code",
   "execution_count": 9,
   "id": "20b95f13",
   "metadata": {},
   "outputs": [
    {
     "data": {
      "image/png": "[encoded data removed]",
      "text/plain": [
       "<Figure size 864x720 with 1 Axes>"
      ]
     },
     "metadata": {},
     "output_type": "display_data"
    }
   ],
   "source": [
    "# Use function from model.py to pull visual for question 3\n",
    "m.q3_viz(train)"
   ]
  },
  {
   "cell_type": "markdown",
   "id": "f6292c99",
   "metadata": {},
   "source": [
    "There seems to be a pattern here. Let's follow up with a statistical test to ensure what we are seeing is true."
   ]
  },
  {
   "cell_type": "markdown",
   "id": "713b965f",
   "metadata": {},
   "source": [
    "### Stats Test (Pearson's r):\n",
    "\n",
    "#### Hypothesis:\n",
    " - H0: There is no linear relationship between down and whether it is a pass play.\n",
    " - Ha: There is linear relationship between down and whether it is a pass play.\n",
    " \n",
    "Let's look at the results of our Pearson's r test..."
   ]
  },
  {
   "cell_type": "code",
   "execution_count": 10,
   "id": "c0ceec02",
   "metadata": {},
   "outputs": [
    {
     "name": "stdout",
     "output_type": "stream",
     "text": [
      "=============================================================\n",
      "r = 0.21698781997451191\n",
      "p = 0.0\n",
      "-------------------------------------------------------------\n",
      "We reject the hypothesis that there is no linear relationship \n",
      "between down and the play resulting in a pass.\n",
      "=============================================================\n"
     ]
    }
   ],
   "source": [
    "# Use function from model.py to pull Pearson's r test results for question 3\n",
    "m.q3_stats(train)"
   ]
  },
  {
   "cell_type": "markdown",
   "id": "79076f37",
   "metadata": {},
   "source": [
    "### Answer to Question #3:\n",
    "With the reinforcement of our Pearson's r, we can conclude that we cannot assume there is no linear relationship between the down and the play resulting in a pass."
   ]
  },
  {
   "cell_type": "markdown",
   "id": "1fc6f746",
   "metadata": {},
   "source": [
    "---"
   ]
  },
  {
   "cell_type": "markdown",
   "id": "ee444ded",
   "metadata": {},
   "source": [
    "### Question #4:\n",
    "#### Are current quarter and passing the ball independent of each other?"
   ]
  },
  {
   "cell_type": "code",
   "execution_count": 11,
   "id": "f043e185",
   "metadata": {},
   "outputs": [
    {
     "data": {
      "image/png": "[encoded data removed]",
      "text/plain": [
       "<Figure size 864x720 with 1 Axes>"
      ]
     },
     "metadata": {},
     "output_type": "display_data"
    }
   ],
   "source": [
    "# Use function from model.py to pull visual for question 4\n",
    "m.q4_viz(train)"
   ]
  },
  {
   "cell_type": "markdown",
   "id": "b051e4d3",
   "metadata": {},
   "source": [
    "There is an obvious independence between passing and long yardage situations here but there's less proof visually of passing plays' dependency on quarter. Let's look at this statistically with a Chi^2 test..."
   ]
  },
  {
   "cell_type": "markdown",
   "id": "70162c24",
   "metadata": {},
   "source": [
    "#### Stats Test (Chi^2):\n",
    "#### Hypothesis:\n",
    " - H0: Pass is independent of the current quarter.\n",
    " - Ha: Pass is not independent of the current quarter."
   ]
  },
  {
   "cell_type": "code",
   "execution_count": 12,
   "id": "fb1b2a64",
   "metadata": {},
   "outputs": [
    {
     "name": "stdout",
     "output_type": "stream",
     "text": [
      "=================================================================\n",
      "chi^2 = 377.8400\n",
      "p     = 1.7047081952091722e-80\n",
      "-----------------------------------------------------------------\n",
      "We reject the hypothesis that IsPass and Quarter are independent.\n",
      "=================================================================\n"
     ]
    }
   ],
   "source": [
    "# Use function from model.py to pull Chi^2 test results for question 3\n",
    "m.q4_stats(train)"
   ]
  },
  {
   "cell_type": "markdown",
   "id": "9b531976",
   "metadata": {},
   "source": [
    "### Answer to Question #4:\n",
    "While our visual isn't very helpful, we can rely on our Chi^2 test to prove that we can reject the idea that IsPass and the quarter of play are independent of each other and look deeper into their dependency when it comes to modeling."
   ]
  },
  {
   "cell_type": "markdown",
   "id": "64bce437",
   "metadata": {},
   "source": [
    "---"
   ]
  },
  {
   "cell_type": "markdown",
   "id": "0e325e7d",
   "metadata": {},
   "source": [
    "### Clustering:"
   ]
  },
  {
   "cell_type": "markdown",
   "id": "e045774a",
   "metadata": {},
   "source": [
    "With the above initial questions giving us a little insight, we can go forward with modeling. In addition, I also established a few extra useful features including the use of clustering. I created a 'togo_cluster' that was the most effective. This cluster can be added to other features during modeling. While you can see the other clusters created in my workbook along with their statistical results, the following are the results of the togo_cluster which combined the features ToGo (yards to go) and SecondsLeft (the amount of seconds left in the game)."
   ]
  },
  {
   "cell_type": "markdown",
   "id": "04dc060c",
   "metadata": {},
   "source": [
    "Before doing anything related to modeling, I first scaled our data using a MinMaxScaler that normalized the data which allowed me to look at the varibles of the train, validate, and test datasets on a scale of 0 to 1. This process, once again, was made into a function from the wrangle.py file for ease of use..."
   ]
  },
  {
   "cell_type": "code",
   "execution_count": 13,
   "id": "4656e44b",
   "metadata": {},
   "outputs": [],
   "source": [
    "# Use function from model.py to scale data using a MinMaxScaler\n",
    "train_scaled, validate_scaled, test_scaled = w.min_max_scaler(train, validate, test)"
   ]
  },
  {
   "cell_type": "markdown",
   "id": "a07f2f2d",
   "metadata": {},
   "source": [
    "Once scaled, our scaled datasets can be plugged into a function from our model.py file in order to create the togo_cluster for their relative datasets. Our original train, validate, and test are also used for our y variables."
   ]
  },
  {
   "cell_type": "code",
   "execution_count": 14,
   "id": "f45eab7a",
   "metadata": {},
   "outputs": [],
   "source": [
    "# Use function from model.py in order to create a cluster and add it to the data frame\n",
    "m.get_togo_cluster(train, train_scaled, validate, validate_scaled, test, test_scaled)"
   ]
  },
  {
   "cell_type": "markdown",
   "id": "78b62d6c",
   "metadata": {},
   "source": [
    "We can verify the cluster has been added to our data frames with a quick 'train.head(2) and a slide to the end of our data frame to see it in our last column:"
   ]
  },
  {
   "cell_type": "code",
   "execution_count": 15,
   "id": "3b04a565",
   "metadata": {},
   "outputs": [
    {
     "data": {
      "text/html": [
       "<div>\n",
       "<style scoped>\n",
       "    .dataframe tbody tr th:only-of-type {\n",
       "        vertical-align: middle;\n",
       "    }\n",
       "\n",
       "    .dataframe tbody tr th {\n",
       "        vertical-align: top;\n",
       "    }\n",
       "\n",
       "    .dataframe thead th {\n",
       "        text-align: right;\n",
       "    }\n",
       "</style>\n",
       "<table border=\"1\" class=\"dataframe\">\n",
       "  <thead>\n",
       "    <tr style=\"text-align: right;\">\n",
       "      <th></th>\n",
       "      <th>GameDate</th>\n",
       "      <th>Quarter</th>\n",
       "      <th>Minute</th>\n",
       "      <th>Second</th>\n",
       "      <th>OffenseTeam</th>\n",
       "      <th>DefenseTeam</th>\n",
       "      <th>Down</th>\n",
       "      <th>ToGo</th>\n",
       "      <th>YardLine</th>\n",
       "      <th>SeriesFirstDown</th>\n",
       "      <th>SeasonYear</th>\n",
       "      <th>Yards</th>\n",
       "      <th>Formation</th>\n",
       "      <th>PlayType</th>\n",
       "      <th>IsPass</th>\n",
       "      <th>IsInterception</th>\n",
       "      <th>IsFumble</th>\n",
       "      <th>YardLineFixed</th>\n",
       "      <th>YardLineDirection</th>\n",
       "      <th>YTG_bins</th>\n",
       "      <th>QuarterSeconds</th>\n",
       "      <th>ClockSeconds</th>\n",
       "      <th>SecondsLeft</th>\n",
       "      <th>togo_cluster</th>\n",
       "    </tr>\n",
       "  </thead>\n",
       "  <tbody>\n",
       "    <tr>\n",
       "      <th>42319</th>\n",
       "      <td>2017-12-11</td>\n",
       "      <td>4</td>\n",
       "      <td>13</td>\n",
       "      <td>9</td>\n",
       "      <td>NE</td>\n",
       "      <td>MIA</td>\n",
       "      <td>2</td>\n",
       "      <td>3</td>\n",
       "      <td>97</td>\n",
       "      <td>1</td>\n",
       "      <td>2017</td>\n",
       "      <td>3</td>\n",
       "      <td>UNDER CENTER</td>\n",
       "      <td>PASS</td>\n",
       "      <td>1</td>\n",
       "      <td>0</td>\n",
       "      <td>0</td>\n",
       "      <td>3</td>\n",
       "      <td>OPP</td>\n",
       "      <td>short</td>\n",
       "      <td>3600</td>\n",
       "      <td>789</td>\n",
       "      <td>789</td>\n",
       "      <td>2</td>\n",
       "    </tr>\n",
       "    <tr>\n",
       "      <th>4651</th>\n",
       "      <td>2018-12-16</td>\n",
       "      <td>4</td>\n",
       "      <td>3</td>\n",
       "      <td>23</td>\n",
       "      <td>MIN</td>\n",
       "      <td>MIA</td>\n",
       "      <td>2</td>\n",
       "      <td>7</td>\n",
       "      <td>60</td>\n",
       "      <td>0</td>\n",
       "      <td>2018</td>\n",
       "      <td>5</td>\n",
       "      <td>UNDER CENTER</td>\n",
       "      <td>RUSH</td>\n",
       "      <td>0</td>\n",
       "      <td>0</td>\n",
       "      <td>0</td>\n",
       "      <td>40</td>\n",
       "      <td>OPP</td>\n",
       "      <td>medium</td>\n",
       "      <td>3600</td>\n",
       "      <td>203</td>\n",
       "      <td>203</td>\n",
       "      <td>2</td>\n",
       "    </tr>\n",
       "  </tbody>\n",
       "</table>\n",
       "</div>"
      ],
      "text/plain": [
       "         GameDate  Quarter  Minute  Second OffenseTeam DefenseTeam  Down  \\\n",
       "42319  2017-12-11        4      13       9          NE         MIA     2   \n",
       "4651   2018-12-16        4       3      23         MIN         MIA     2   \n",
       "\n",
       "       ToGo  YardLine  SeriesFirstDown  SeasonYear  Yards     Formation  \\\n",
       "42319     3        97                1        2017      3  UNDER CENTER   \n",
       "4651      7        60                0        2018      5  UNDER CENTER   \n",
       "\n",
       "      PlayType  IsPass  IsInterception  IsFumble  YardLineFixed  \\\n",
       "42319     PASS       1               0         0              3   \n",
       "4651      RUSH       0               0         0             40   \n",
       "\n",
       "      YardLineDirection YTG_bins  QuarterSeconds  ClockSeconds  SecondsLeft  \\\n",
       "42319               OPP    short            3600           789          789   \n",
       "4651                OPP   medium            3600           203          203   \n",
       "\n",
       "      togo_cluster  \n",
       "42319            2  \n",
       "4651             2  "
      ]
     },
     "execution_count": 15,
     "metadata": {},
     "output_type": "execute_result"
    }
   ],
   "source": [
    "# Ensure cluster was added\n",
    "train.head(2)"
   ]
  },
  {
   "cell_type": "markdown",
   "id": "23f27e78",
   "metadata": {},
   "source": [
    "---"
   ]
  },
  {
   "cell_type": "markdown",
   "id": "bba7d522",
   "metadata": {},
   "source": [
    "### Modeling :"
   ]
  },
  {
   "cell_type": "markdown",
   "id": "5aa6381b",
   "metadata": {},
   "source": [
    "In order to move through modeling, we must first establish our baseline. The baseline for this dataset will be the most occuring (mode) result of our target 'IsPass'. This means our baseline will be equal to 1. Our basline percentage will be the average of the amount of plays that resulted in a pass. That percentage is the following:"
   ]
  },
  {
   "cell_type": "code",
   "execution_count": 16,
   "id": "f1a5a90d",
   "metadata": {},
   "outputs": [
    {
     "name": "stdout",
     "output_type": "stream",
     "text": [
      "Baseline is 59.92%\n"
     ]
    }
   ],
   "source": [
    "# Use function from model.py to set baseline\n",
    "m.baseline(train)"
   ]
  },
  {
   "cell_type": "markdown",
   "id": "97281991",
   "metadata": {},
   "source": [
    "With the baseline set at 59.92%, we now move to set our x's and y's for our train, validate, and test datasets. The x's for each will be the features we are using in our modeling. These include:\n",
    "\n",
    "        - togo_cluster\n",
    "        - Down\n",
    "        - YardLine\n",
    "        \n",
    "Our target will be used to create our y's. Once again, that target is 'IsPass'. All this work is accessible using our 'set_x_and_y' function our of our model.py file."
   ]
  },
  {
   "cell_type": "code",
   "execution_count": 17,
   "id": "70fc32a2",
   "metadata": {},
   "outputs": [],
   "source": [
    "# Use a function from model.py to set x's and y's for train, validate, and test\n",
    "x_train, y_train, x_validate, y_validate, x_test, y_test = m.set_x_and_y(train, validate, test)"
   ]
  },
  {
   "cell_type": "markdown",
   "id": "0fafb72e",
   "metadata": {},
   "source": [
    "Once our x's and y's are established, we can input them into our modeling function out of our model.py file that runs a Logistical Regression, Decision Tree, Random Forest and K's Nearest Neighbors model and outputs each model's accuracy."
   ]
  },
  {
   "cell_type": "code",
   "execution_count": 18,
   "id": "52d21ee4",
   "metadata": {},
   "outputs": [
    {
     "name": "stdout",
     "output_type": "stream",
     "text": [
      "====================================================================\n",
      "Accuracy of Logistic Regression on the training set is 60.26%\n",
      "Accuracy of Logistic Regression on the validation set is 60.46%\n",
      "--------------------------------------------------------------------\n",
      "Accuracy of Decision Tree Classifier on the training set is 62.39%\n",
      "Accuracy of Decision Tree Classifier on the validation set is 62.50%\n",
      "--------------------------------------------------------------------\n",
      "Accuracy of Random Forest on the training set is 63.02%\n",
      "Accuracy of Random Forest on the validation set is 62.11%\n",
      "--------------------------------------------------------------------\n",
      "Accuracy of KNN on the training set is 59.33%\n",
      "Accuracy of KNN on the validation set is 58.60%\n",
      "====================================================================\n"
     ]
    }
   ],
   "source": [
    "# Use function from model.py to run models and provide each result of the training and validation sets\n",
    "m.model_accuracy(x_train, y_train, x_validate, y_validate, x_test, y_test)"
   ]
  },
  {
   "cell_type": "markdown",
   "id": "739c13b0",
   "metadata": {},
   "source": [
    "As seen above, our Decision Tree model performed the best on our validate set. This means that we can deem it as our 'Best Performer' for our data. Now we can run a Decision Tree model using our untouched test data in order to get a true idea of it's effectiveness. This can be done by using the 'decision_tree_best_on_test' function in our model.py file. The output will be a reinteration of our baseline, how accurate our model is on the untouched data, and the amount by which our model beat/didn't beat the baseline."
   ]
  },
  {
   "cell_type": "code",
   "execution_count": 19,
   "id": "bc0f39f6",
   "metadata": {},
   "outputs": [
    {
     "name": "stdout",
     "output_type": "stream",
     "text": [
      "==================================================================\n",
      "Baseline Accuracy of Decision Tree Classifier is 59.92%\n",
      "Accuracy of Decision Tree Classifier on the test set is 62.71%\n",
      "------------------------------------------------------------------\n",
      "Accuracy gained with use of the new model on the test set is 2.79%\n",
      "==================================================================\n"
     ]
    }
   ],
   "source": [
    "# Use the best model (Decision Tree) on the test data set and provide results\n",
    "m.decision_tree_best_on_test(x_test, y_test, train)"
   ]
  },
  {
   "cell_type": "markdown",
   "id": "389eecab",
   "metadata": {},
   "source": [
    "---"
   ]
  },
  {
   "cell_type": "markdown",
   "id": "eeeebd0e",
   "metadata": {},
   "source": [
    "### Conclusion:\n",
    "The goals of this project were to identify drivers of pass plays in order to predict whether or not a play would result in a pass or run for NFL offenses. Key drivers found were the following:\n",
    "\n",
    "    - Down\n",
    "    - Yardline\n",
    "    - togo_cluster (Yards to go along with seconds left in the game)\n",
    "\n",
    "Using these drivers to help our model resulted in an increase of 2.79% over the baseline. \n",
    "\n",
    "#### Recommendation(s):\n",
    "An increase of 2.79% isn't impactful enough to push the model forward to help with predictions in future or real time scenarios. The model must be further refined.\n",
    "\n",
    "#### Next Steps:\n",
    "With more time, I would like to:\n",
    "\n",
    "- Work on more feature engineering and explore more relationships of categories to passing and/or running the ball.\n",
    "\n",
    "- Explore other datasets to find and create features that will help refine our current model or result in the creation of a new model.\n",
    "    \n",
    "- Look into focusing on plays that happened on specific down and by specific teams."
   ]
  },
  {
   "cell_type": "markdown",
   "id": "7fe42f8a",
   "metadata": {},
   "source": [
    "---"
   ]
  }
 ],
 "metadata": {
  "kernelspec": {
   "display_name": "Python 3 (ipykernel)",
   "language": "python",
   "name": "python3"
  },
  "language_info": {
   "codemirror_mode": {
    "name": "ipython",
    "version": 3
   },
   "file_extension": ".py",
   "mimetype": "text/x-python",
   "name": "python",
   "nbconvert_exporter": "python",
   "pygments_lexer": "ipython3",
   "version": "3.9.7"
  }
 },
 "nbformat": 4,
 "nbformat_minor": 5
}
